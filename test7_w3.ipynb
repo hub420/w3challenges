{
  "nbformat": 4,
  "nbformat_minor": 0,
  "metadata": {
    "colab": {
      "name": "test7_w3.ipynb",
      "provenance": [],
      "collapsed_sections": [],
      "authorship_tag": "ABX9TyOSKCnKTfD9QL45V5ZPFQaB",
      "include_colab_link": true
    },
    "kernelspec": {
      "name": "python3",
      "display_name": "Python 3"
    },
    "language_info": {
      "name": "python"
    }
  },
  "cells": [
    {
      "cell_type": "markdown",
      "metadata": {
        "id": "view-in-github",
        "colab_type": "text"
      },
      "source": [
        "<a href=\"https://colab.research.google.com/github/hub420/w3challenges/blob/main/test7_w3.ipynb\" target=\"_parent\"><img src=\"https://colab.research.google.com/assets/colab-badge.svg\" alt=\"Open In Colab\"/></a>"
      ]
    },
    {
      "cell_type": "code",
      "source": [
        "#Write a Python program to check a given list of integers where the sum of the first i integers is i.\n",
        "n = [1,2,3,4,5,6]\n",
        "def test():\n",
        "  for i,v in enumerate(n):\n",
        "    return(i,v)\n",
        "\n",
        "for i in range(1):\n",
        "  print(n)\n"
      ],
      "metadata": {
        "id": "0yOgg8d0Mk-U"
      },
      "execution_count": null,
      "outputs": []
    }
  ]
}